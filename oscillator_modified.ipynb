{
 "cells": [
  {
   "cell_type": "code",
   "execution_count": 1,
   "id": "eeebb351",
   "metadata": {
    "scrolled": false
   },
   "outputs": [
    {
     "name": "stdout",
     "output_type": "stream",
     "text": [
      "Requirement already satisfied: plotly in /Library/Frameworks/Python.framework/Versions/3.10/lib/python3.10/site-packages (5.7.0)\n",
      "Requirement already satisfied: six in /Library/Frameworks/Python.framework/Versions/3.10/lib/python3.10/site-packages (from plotly) (1.16.0)\n",
      "Requirement already satisfied: tenacity>=6.2.0 in /Library/Frameworks/Python.framework/Versions/3.10/lib/python3.10/site-packages (from plotly) (8.0.1)\n",
      "Note: you may need to restart the kernel to use updated packages.\n"
     ]
    }
   ],
   "source": [
    "pip install plotly"
   ]
  },
  {
   "cell_type": "code",
   "execution_count": null,
   "id": "2030339b",
   "metadata": {},
   "outputs": [],
   "source": [
    "pip install pandas_datareader\n"
   ]
  },
  {
   "cell_type": "code",
   "execution_count": 7,
   "id": "8f338cb6",
   "metadata": {},
   "outputs": [],
   "source": [
    "import mplfinance as mpf\n",
    "import pandas_datareader as web\n",
    "import plotly\n",
    "import pandas_datareader as pdr\n",
    "from pandas_datareader import data, wb\n",
    "from datetime import date\n",
    "import FinanceDataReader as fdr\n",
    "import FinanceDataReader as fdr\n",
    "import pandas as pd"
   ]
  },
  {
   "cell_type": "code",
   "execution_count": 2,
   "id": "c0312b57",
   "metadata": {
    "scrolled": true
   },
   "outputs": [
    {
     "ename": "NameError",
     "evalue": "name 'df' is not defined",
     "output_type": "error",
     "traceback": [
      "\u001b[0;31m---------------------------------------------------------------------------\u001b[0m",
      "\u001b[0;31mNameError\u001b[0m                                 Traceback (most recent call last)",
      "Input \u001b[0;32mIn [2]\u001b[0m, in \u001b[0;36m<cell line: 1>\u001b[0;34m()\u001b[0m\n\u001b[0;32m----> 1\u001b[0m df\u001b[38;5;241m=\u001b[39m\u001b[43mdf\u001b[49m\u001b[38;5;241m.\u001b[39mastype(\u001b[38;5;28mint\u001b[39m)\n",
      "\u001b[0;31mNameError\u001b[0m: name 'df' is not defined"
     ]
    }
   ],
   "source": [
    "df=df.astype(int)"
   ]
  },
  {
   "cell_type": "code",
   "execution_count": 3,
   "id": "b4faa30d",
   "metadata": {},
   "outputs": [
    {
     "name": "stdout",
     "output_type": "stream",
     "text": [
      "Requirement already satisfied: certifi in /Library/Frameworks/Python.framework/Versions/3.10/lib/python3.10/site-packages (2021.10.8)\r\n"
     ]
    }
   ],
   "source": [
    "\n",
    "!pip3 install certifi\n",
    "\n",
    "import certifi"
   ]
  },
  {
   "cell_type": "code",
   "execution_count": 8,
   "id": "ca3e8de9",
   "metadata": {},
   "outputs": [],
   "source": [
    "import ssl"
   ]
  },
  {
   "cell_type": "code",
   "execution_count": 9,
   "id": "01ba9dc2",
   "metadata": {
    "scrolled": true
   },
   "outputs": [],
   "source": [
    "code_df=pd.read_html('http://kind.krx.co.kr/corpgeneral/corpList.do?method=download&searchType=13',header=0)[0]"
   ]
  },
  {
   "cell_type": "code",
   "execution_count": 10,
   "id": "061184a5",
   "metadata": {},
   "outputs": [],
   "source": [
    "code_df.종목코드=code_df.종목코드.map('{:06d}'.format)"
   ]
  },
  {
   "cell_type": "code",
   "execution_count": 11,
   "id": "b2c9bc69",
   "metadata": {},
   "outputs": [],
   "source": [
    "code_df=code_df[['회사명','종목코드']]"
   ]
  },
  {
   "cell_type": "code",
   "execution_count": 12,
   "id": "2800af55",
   "metadata": {},
   "outputs": [],
   "source": [
    "code_df=code_df.rename(columns={'회사명':'name','종목코드':'code'})"
   ]
  },
  {
   "cell_type": "code",
   "execution_count": 13,
   "id": "5e5607f6",
   "metadata": {},
   "outputs": [
    {
     "data": {
      "text/html": [
       "<div>\n",
       "<style scoped>\n",
       "    .dataframe tbody tr th:only-of-type {\n",
       "        vertical-align: middle;\n",
       "    }\n",
       "\n",
       "    .dataframe tbody tr th {\n",
       "        vertical-align: top;\n",
       "    }\n",
       "\n",
       "    .dataframe thead th {\n",
       "        text-align: right;\n",
       "    }\n",
       "</style>\n",
       "<table border=\"1\" class=\"dataframe\">\n",
       "  <thead>\n",
       "    <tr style=\"text-align: right;\">\n",
       "      <th></th>\n",
       "      <th>name</th>\n",
       "      <th>code</th>\n",
       "    </tr>\n",
       "  </thead>\n",
       "  <tbody>\n",
       "    <tr>\n",
       "      <th>0</th>\n",
       "      <td>DL</td>\n",
       "      <td>000210</td>\n",
       "    </tr>\n",
       "    <tr>\n",
       "      <th>1</th>\n",
       "      <td>DRB동일</td>\n",
       "      <td>004840</td>\n",
       "    </tr>\n",
       "    <tr>\n",
       "      <th>2</th>\n",
       "      <td>DSR</td>\n",
       "      <td>155660</td>\n",
       "    </tr>\n",
       "    <tr>\n",
       "      <th>3</th>\n",
       "      <td>GS</td>\n",
       "      <td>078930</td>\n",
       "    </tr>\n",
       "    <tr>\n",
       "      <th>4</th>\n",
       "      <td>KG케미칼</td>\n",
       "      <td>001390</td>\n",
       "    </tr>\n",
       "  </tbody>\n",
       "</table>\n",
       "</div>"
      ],
      "text/plain": [
       "    name    code\n",
       "0     DL  000210\n",
       "1  DRB동일  004840\n",
       "2    DSR  155660\n",
       "3     GS  078930\n",
       "4  KG케미칼  001390"
      ]
     },
     "execution_count": 13,
     "metadata": {},
     "output_type": "execute_result"
    }
   ],
   "source": [
    "code_df.head()"
   ]
  },
  {
   "cell_type": "code",
   "execution_count": 16,
   "id": "d7dc5b30",
   "metadata": {},
   "outputs": [],
   "source": [
    "def get_url(item_name, code_df):\n",
    "    code=code_df.query(\"name=='{}'\".format(item_name))['code'].to_string(index=False)\n",
    "    url='https://finance.naver.com/item/sise.naver?code={code}'.format(code=code)"
   ]
  },
  {
   "cell_type": "code",
   "execution_count": 20,
   "id": "f58bbd77",
   "metadata": {},
   "outputs": [
    {
     "name": "stdout",
     "output_type": "stream",
     "text": [
      "요청 URL=None\n"
     ]
    }
   ],
   "source": [
    "item_name='삼성전자'\n",
    "url=get_url(item_name, code_df)\n",
    "\n",
    "print(\"요청 URL={}\".format(url))"
   ]
  },
  {
   "cell_type": "code",
   "execution_count": 21,
   "id": "1d799b51",
   "metadata": {},
   "outputs": [],
   "source": [
    "df=pd.DataFrame()"
   ]
  },
  {
   "cell_type": "code",
   "execution_count": 23,
   "id": "90284d19",
   "metadata": {},
   "outputs": [],
   "source": [
    "df=web.DataReader(\"005930.KS\",\"yahoo\",\"2018-01-01\",\"2019-12-31\")"
   ]
  },
  {
   "cell_type": "code",
   "execution_count": 24,
   "id": "ab8e1b1d",
   "metadata": {},
   "outputs": [
    {
     "data": {
      "text/html": [
       "<div>\n",
       "<style scoped>\n",
       "    .dataframe tbody tr th:only-of-type {\n",
       "        vertical-align: middle;\n",
       "    }\n",
       "\n",
       "    .dataframe tbody tr th {\n",
       "        vertical-align: top;\n",
       "    }\n",
       "\n",
       "    .dataframe thead th {\n",
       "        text-align: right;\n",
       "    }\n",
       "</style>\n",
       "<table border=\"1\" class=\"dataframe\">\n",
       "  <thead>\n",
       "    <tr style=\"text-align: right;\">\n",
       "      <th></th>\n",
       "      <th>High</th>\n",
       "      <th>Low</th>\n",
       "      <th>Open</th>\n",
       "      <th>Close</th>\n",
       "      <th>Volume</th>\n",
       "      <th>Adj Close</th>\n",
       "    </tr>\n",
       "    <tr>\n",
       "      <th>Date</th>\n",
       "      <th></th>\n",
       "      <th></th>\n",
       "      <th></th>\n",
       "      <th></th>\n",
       "      <th></th>\n",
       "      <th></th>\n",
       "    </tr>\n",
       "  </thead>\n",
       "  <tbody>\n",
       "    <tr>\n",
       "      <th>2018-01-02</th>\n",
       "      <td>51400.0</td>\n",
       "      <td>50780.0</td>\n",
       "      <td>51380.0</td>\n",
       "      <td>51020.0</td>\n",
       "      <td>8474250.0</td>\n",
       "      <td>44846.003906</td>\n",
       "    </tr>\n",
       "    <tr>\n",
       "      <th>2018-01-03</th>\n",
       "      <td>52560.0</td>\n",
       "      <td>51420.0</td>\n",
       "      <td>52540.0</td>\n",
       "      <td>51620.0</td>\n",
       "      <td>10013500.0</td>\n",
       "      <td>45373.378906</td>\n",
       "    </tr>\n",
       "    <tr>\n",
       "      <th>2018-01-04</th>\n",
       "      <td>52180.0</td>\n",
       "      <td>50640.0</td>\n",
       "      <td>52120.0</td>\n",
       "      <td>51080.0</td>\n",
       "      <td>11695450.0</td>\n",
       "      <td>44898.734375</td>\n",
       "    </tr>\n",
       "    <tr>\n",
       "      <th>2018-01-05</th>\n",
       "      <td>52120.0</td>\n",
       "      <td>51200.0</td>\n",
       "      <td>51300.0</td>\n",
       "      <td>52120.0</td>\n",
       "      <td>9481150.0</td>\n",
       "      <td>45812.878906</td>\n",
       "    </tr>\n",
       "    <tr>\n",
       "      <th>2018-01-08</th>\n",
       "      <td>52520.0</td>\n",
       "      <td>51500.0</td>\n",
       "      <td>52400.0</td>\n",
       "      <td>52020.0</td>\n",
       "      <td>8383650.0</td>\n",
       "      <td>45724.980469</td>\n",
       "    </tr>\n",
       "  </tbody>\n",
       "</table>\n",
       "</div>"
      ],
      "text/plain": [
       "               High      Low     Open    Close      Volume     Adj Close\n",
       "Date                                                                    \n",
       "2018-01-02  51400.0  50780.0  51380.0  51020.0   8474250.0  44846.003906\n",
       "2018-01-03  52560.0  51420.0  52540.0  51620.0  10013500.0  45373.378906\n",
       "2018-01-04  52180.0  50640.0  52120.0  51080.0  11695450.0  44898.734375\n",
       "2018-01-05  52120.0  51200.0  51300.0  52120.0   9481150.0  45812.878906\n",
       "2018-01-08  52520.0  51500.0  52400.0  52020.0   8383650.0  45724.980469"
      ]
     },
     "execution_count": 24,
     "metadata": {},
     "output_type": "execute_result"
    }
   ],
   "source": [
    "df.head()"
   ]
  },
  {
   "cell_type": "code",
   "execution_count": 29,
   "id": "4b2edf57",
   "metadata": {},
   "outputs": [],
   "source": [
    "df=df.dropna()"
   ]
  },
  {
   "cell_type": "code",
   "execution_count": 27,
   "id": "d65a22ff",
   "metadata": {},
   "outputs": [],
   "source": [
    "df=df.rename(columns={'날짜':'ata','종가':'close','전일비':'diff','시가':'open','고가':'high','저가':'low','거래량':'volume'})"
   ]
  },
  {
   "cell_type": "code",
   "execution_count": 80,
   "id": "d48dea90",
   "metadata": {
    "scrolled": true
   },
   "outputs": [
    {
     "data": {
      "text/html": [
       "<div>\n",
       "<style scoped>\n",
       "    .dataframe tbody tr th:only-of-type {\n",
       "        vertical-align: middle;\n",
       "    }\n",
       "\n",
       "    .dataframe tbody tr th {\n",
       "        vertical-align: top;\n",
       "    }\n",
       "\n",
       "    .dataframe thead th {\n",
       "        text-align: right;\n",
       "    }\n",
       "</style>\n",
       "<table border=\"1\" class=\"dataframe\">\n",
       "  <thead>\n",
       "    <tr style=\"text-align: right;\">\n",
       "      <th></th>\n",
       "      <th>High</th>\n",
       "      <th>Low</th>\n",
       "      <th>Open</th>\n",
       "      <th>Close</th>\n",
       "      <th>Volume</th>\n",
       "      <th>Adj Close</th>\n",
       "      <th>masd</th>\n",
       "      <th>macds</th>\n",
       "      <th>macdo</th>\n",
       "      <th>Date</th>\n",
       "    </tr>\n",
       "    <tr>\n",
       "      <th>Date</th>\n",
       "      <th></th>\n",
       "      <th></th>\n",
       "      <th></th>\n",
       "      <th></th>\n",
       "      <th></th>\n",
       "      <th></th>\n",
       "      <th></th>\n",
       "      <th></th>\n",
       "      <th></th>\n",
       "      <th></th>\n",
       "    </tr>\n",
       "  </thead>\n",
       "  <tbody>\n",
       "    <tr>\n",
       "      <th>2018-01-02</th>\n",
       "      <td>51400</td>\n",
       "      <td>50780</td>\n",
       "      <td>51380</td>\n",
       "      <td>51020</td>\n",
       "      <td>8474250.0</td>\n",
       "      <td>44846</td>\n",
       "      <td>0.000000</td>\n",
       "      <td>0.000000</td>\n",
       "      <td>0.0</td>\n",
       "      <td>2018-01-02</td>\n",
       "    </tr>\n",
       "    <tr>\n",
       "      <th>2018-01-03</th>\n",
       "      <td>52560</td>\n",
       "      <td>51420</td>\n",
       "      <td>52540</td>\n",
       "      <td>51620</td>\n",
       "      <td>10013500.0</td>\n",
       "      <td>45373</td>\n",
       "      <td>13.461538</td>\n",
       "      <td>7.478632</td>\n",
       "      <td>0.0</td>\n",
       "      <td>2018-01-03</td>\n",
       "    </tr>\n",
       "    <tr>\n",
       "      <th>2018-01-04</th>\n",
       "      <td>52180</td>\n",
       "      <td>50640</td>\n",
       "      <td>52120</td>\n",
       "      <td>51080</td>\n",
       "      <td>11695450.0</td>\n",
       "      <td>44898</td>\n",
       "      <td>0.407304</td>\n",
       "      <td>4.580547</td>\n",
       "      <td>0.0</td>\n",
       "      <td>2018-01-04</td>\n",
       "    </tr>\n",
       "    <tr>\n",
       "      <th>2018-01-05</th>\n",
       "      <td>52120</td>\n",
       "      <td>51200</td>\n",
       "      <td>51300</td>\n",
       "      <td>52120</td>\n",
       "      <td>9481150.0</td>\n",
       "      <td>45812</td>\n",
       "      <td>32.008805</td>\n",
       "      <td>13.871962</td>\n",
       "      <td>0.0</td>\n",
       "      <td>2018-01-05</td>\n",
       "    </tr>\n",
       "    <tr>\n",
       "      <th>2018-01-08</th>\n",
       "      <td>52520</td>\n",
       "      <td>51500</td>\n",
       "      <td>52400</td>\n",
       "      <td>52020</td>\n",
       "      <td>8383650.0</td>\n",
       "      <td>45724</td>\n",
       "      <td>44.527491</td>\n",
       "      <td>22.991289</td>\n",
       "      <td>0.0</td>\n",
       "      <td>2018-01-08</td>\n",
       "    </tr>\n",
       "  </tbody>\n",
       "</table>\n",
       "</div>"
      ],
      "text/plain": [
       "             High    Low   Open  Close      Volume  Adj Close       masd  \\\n",
       "Date                                                                       \n",
       "2018-01-02  51400  50780  51380  51020   8474250.0      44846   0.000000   \n",
       "2018-01-03  52560  51420  52540  51620  10013500.0      45373  13.461538   \n",
       "2018-01-04  52180  50640  52120  51080  11695450.0      44898   0.407304   \n",
       "2018-01-05  52120  51200  51300  52120   9481150.0      45812  32.008805   \n",
       "2018-01-08  52520  51500  52400  52020   8383650.0      45724  44.527491   \n",
       "\n",
       "                macds  macdo       Date  \n",
       "Date                                     \n",
       "2018-01-02   0.000000    0.0 2018-01-02  \n",
       "2018-01-03   7.478632    0.0 2018-01-03  \n",
       "2018-01-04   4.580547    0.0 2018-01-04  \n",
       "2018-01-05  13.871962    0.0 2018-01-05  \n",
       "2018-01-08  22.991289    0.0 2018-01-08  "
      ]
     },
     "execution_count": 80,
     "metadata": {},
     "output_type": "execute_result"
    }
   ],
   "source": [
    "df.head()"
   ]
  },
  {
   "cell_type": "code",
   "execution_count": 81,
   "id": "1f2eef70",
   "metadata": {},
   "outputs": [],
   "source": [
    "# 데이터의 타입을 int형으로 바꿔줌\n",
    "df[['Close', 'Low', 'Open', 'High', 'Adj Close']] \\\n",
    "    = df[['Close', 'Low', 'Open', 'High', 'Adj Close',]].astype(int)\n"
   ]
  },
  {
   "cell_type": "code",
   "execution_count": 76,
   "id": "184d31c1",
   "metadata": {},
   "outputs": [],
   "source": [
    "\n",
    "# 컬럼명 'date'의 타입을 date로 바꿔줌\n",
    "df.index = pd.to_datetime(df.index)"
   ]
  },
  {
   "cell_type": "code",
   "execution_count": 82,
   "id": "55b36397",
   "metadata": {},
   "outputs": [],
   "source": [
    "#macd 지표 구하기\n",
    "\n",
    "def get_macd(df, short=12, long=26, t=9):\n",
    "    \n",
    "    ma_12=df.Close.ewm(span=12).mean() #단기(12) EMA(지수평균이동)\n",
    "    ma_26=df.Close.ewm(span=26).mean() #장기(26) EMA\n",
    "    macd=ma_12 - ma_26 #MACD\n",
    "    macds = macd.ewm(span=9).mean() #Signal\n",
    "    macdo = macd - macd\n",
    "\n",
    "    df=df.assign(masd=macd, macds=macds, macdo=macdo).dropna()\n",
    "\n",
    "    return df"
   ]
  },
  {
   "cell_type": "code",
   "execution_count": 84,
   "id": "f94c056b",
   "metadata": {},
   "outputs": [
    {
     "data": {
      "text/html": [
       "<div>\n",
       "<style scoped>\n",
       "    .dataframe tbody tr th:only-of-type {\n",
       "        vertical-align: middle;\n",
       "    }\n",
       "\n",
       "    .dataframe tbody tr th {\n",
       "        vertical-align: top;\n",
       "    }\n",
       "\n",
       "    .dataframe thead th {\n",
       "        text-align: right;\n",
       "    }\n",
       "</style>\n",
       "<table border=\"1\" class=\"dataframe\">\n",
       "  <thead>\n",
       "    <tr style=\"text-align: right;\">\n",
       "      <th></th>\n",
       "      <th>High</th>\n",
       "      <th>Low</th>\n",
       "      <th>Open</th>\n",
       "      <th>Close</th>\n",
       "      <th>Volume</th>\n",
       "      <th>Adj Close</th>\n",
       "      <th>masd</th>\n",
       "      <th>macds</th>\n",
       "      <th>macdo</th>\n",
       "      <th>Date</th>\n",
       "    </tr>\n",
       "    <tr>\n",
       "      <th>Date</th>\n",
       "      <th></th>\n",
       "      <th></th>\n",
       "      <th></th>\n",
       "      <th></th>\n",
       "      <th></th>\n",
       "      <th></th>\n",
       "      <th></th>\n",
       "      <th></th>\n",
       "      <th></th>\n",
       "      <th></th>\n",
       "    </tr>\n",
       "  </thead>\n",
       "  <tbody>\n",
       "    <tr>\n",
       "      <th>2018-01-02</th>\n",
       "      <td>51400</td>\n",
       "      <td>50780</td>\n",
       "      <td>51380</td>\n",
       "      <td>51020</td>\n",
       "      <td>8474250.0</td>\n",
       "      <td>44846</td>\n",
       "      <td>0.000000</td>\n",
       "      <td>0.000000</td>\n",
       "      <td>0.0</td>\n",
       "      <td>2018-01-02</td>\n",
       "    </tr>\n",
       "    <tr>\n",
       "      <th>2018-01-03</th>\n",
       "      <td>52560</td>\n",
       "      <td>51420</td>\n",
       "      <td>52540</td>\n",
       "      <td>51620</td>\n",
       "      <td>10013500.0</td>\n",
       "      <td>45373</td>\n",
       "      <td>13.461538</td>\n",
       "      <td>7.478632</td>\n",
       "      <td>0.0</td>\n",
       "      <td>2018-01-03</td>\n",
       "    </tr>\n",
       "    <tr>\n",
       "      <th>2018-01-04</th>\n",
       "      <td>52180</td>\n",
       "      <td>50640</td>\n",
       "      <td>52120</td>\n",
       "      <td>51080</td>\n",
       "      <td>11695450.0</td>\n",
       "      <td>44898</td>\n",
       "      <td>0.407304</td>\n",
       "      <td>4.580547</td>\n",
       "      <td>0.0</td>\n",
       "      <td>2018-01-04</td>\n",
       "    </tr>\n",
       "    <tr>\n",
       "      <th>2018-01-05</th>\n",
       "      <td>52120</td>\n",
       "      <td>51200</td>\n",
       "      <td>51300</td>\n",
       "      <td>52120</td>\n",
       "      <td>9481150.0</td>\n",
       "      <td>45812</td>\n",
       "      <td>32.008805</td>\n",
       "      <td>13.871962</td>\n",
       "      <td>0.0</td>\n",
       "      <td>2018-01-05</td>\n",
       "    </tr>\n",
       "    <tr>\n",
       "      <th>2018-01-08</th>\n",
       "      <td>52520</td>\n",
       "      <td>51500</td>\n",
       "      <td>52400</td>\n",
       "      <td>52020</td>\n",
       "      <td>8383650.0</td>\n",
       "      <td>45724</td>\n",
       "      <td>44.527491</td>\n",
       "      <td>22.991289</td>\n",
       "      <td>0.0</td>\n",
       "      <td>2018-01-08</td>\n",
       "    </tr>\n",
       "  </tbody>\n",
       "</table>\n",
       "</div>"
      ],
      "text/plain": [
       "             High    Low   Open  Close      Volume  Adj Close       masd  \\\n",
       "Date                                                                       \n",
       "2018-01-02  51400  50780  51380  51020   8474250.0      44846   0.000000   \n",
       "2018-01-03  52560  51420  52540  51620  10013500.0      45373  13.461538   \n",
       "2018-01-04  52180  50640  52120  51080  11695450.0      44898   0.407304   \n",
       "2018-01-05  52120  51200  51300  52120   9481150.0      45812  32.008805   \n",
       "2018-01-08  52520  51500  52400  52020   8383650.0      45724  44.527491   \n",
       "\n",
       "                macds  macdo       Date  \n",
       "Date                                     \n",
       "2018-01-02   0.000000    0.0 2018-01-02  \n",
       "2018-01-03   7.478632    0.0 2018-01-03  \n",
       "2018-01-04   4.580547    0.0 2018-01-04  \n",
       "2018-01-05  13.871962    0.0 2018-01-05  \n",
       "2018-01-08  22.991289    0.0 2018-01-08  "
      ]
     },
     "execution_count": 84,
     "metadata": {},
     "output_type": "execute_result"
    }
   ],
   "source": [
    "df = get_macd(df)\n",
    "# 상위 5개 데이터 확인\n",
    "\n",
    "df.head()"
   ]
  },
  {
   "cell_type": "code",
   "execution_count": 59,
   "id": "2211c6d9",
   "metadata": {
    "scrolled": true
   },
   "outputs": [
    {
     "data": {
      "text/plain": [
       "Date\n",
       "2018-01-02    51020\n",
       "2018-01-03    51620\n",
       "2018-01-04    51080\n",
       "2018-01-05    52120\n",
       "2018-01-08    52020\n",
       "              ...  \n",
       "2019-12-23    55500\n",
       "2019-12-24    55000\n",
       "2019-12-26    55400\n",
       "2019-12-27    56500\n",
       "2019-12-30    55800\n",
       "Name: Close, Length: 490, dtype: int64"
      ]
     },
     "execution_count": 59,
     "metadata": {},
     "output_type": "execute_result"
    }
   ],
   "source": [
    "df.Close"
   ]
  },
  {
   "cell_type": "code",
   "execution_count": null,
   "id": "55623e8e",
   "metadata": {},
   "outputs": [],
   "source": []
  }
 ],
 "metadata": {
  "kernelspec": {
   "display_name": "Python 3 (ipykernel)",
   "language": "python",
   "name": "python3"
  },
  "language_info": {
   "codemirror_mode": {
    "name": "ipython",
    "version": 3
   },
   "file_extension": ".py",
   "mimetype": "text/x-python",
   "name": "python",
   "nbconvert_exporter": "python",
   "pygments_lexer": "ipython3",
   "version": "3.10.4"
  }
 },
 "nbformat": 4,
 "nbformat_minor": 5
}
