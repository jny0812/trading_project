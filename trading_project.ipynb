{
  "nbformat": 4,
  "nbformat_minor": 0,
  "metadata": {
    "colab": {
      "name": "\btrading_project.ipynb",
      "private_outputs": true,
      "provenance": [],
      "collapsed_sections": [],
      "authorship_tag": "ABX9TyMtCna01qFR/+oy1Z7Nk7lP",
      "include_colab_link": true
    },
    "kernelspec": {
      "name": "python3",
      "display_name": "Python 3"
    },
    "language_info": {
      "name": "python"
    }
  },
  "cells": [
    {
      "cell_type": "markdown",
      "metadata": {
        "id": "view-in-github",
        "colab_type": "text"
      },
      "source": [
        "<a href=\"https://colab.research.google.com/github/jny0812/trading_project/blob/main/%08trading_project.ipynb\" target=\"_parent\"><img src=\"https://colab.research.google.com/assets/colab-badge.svg\" alt=\"Open In Colab\"/></a>"
      ]
    },
    {
      "cell_type": "markdown",
      "source": [
        "### 1) 모듈 import"
      ],
      "metadata": {
        "id": "cIcrvOmvaa92"
      }
    },
    {
      "cell_type": "code",
      "source": [
        "!pip3 install -U finance-datareader\n",
        "!pip3 install pykrx"
      ],
      "metadata": {
        "id": "CoxguVu9az1H"
      },
      "execution_count": null,
      "outputs": []
    },
    {
      "cell_type": "code",
      "source": [
        "import pandas as pd\n",
        "import numpy as np\n",
        "import FinanceDataReader as fdr\n",
        "from pykrx import stock\n",
        "import matplotlib.pyplot as plt\n",
        "import requests\n",
        "from bs4 import BeautifulSoup"
      ],
      "metadata": {
        "id": "EVT2IQAdahYp"
      },
      "execution_count": null,
      "outputs": []
    },
    {
      "cell_type": "markdown",
      "source": [
        "## 크롤링"
      ],
      "metadata": {
        "id": "R5mAJw5cavi8"
      }
    },
    {
      "cell_type": "code",
      "source": [
        "stockList = fdr.StockListing('KRX')\n",
        "\n",
        "def crawling(page, kospi100):\n",
        "    res = requests.get('https://finance.naver.com/sise/sise_market_sum.naver?&page='+str(page))\n",
        "    soup = BeautifulSoup(res.content,'html.parser')\n",
        "    \n",
        "    #section = soup.select('tbody')\n",
        "    #items= section.find_all('tr', onmouseover=\"mouseOver(this)\")\n",
        "    \n",
        "    items = soup.select('tbody > tr > td:nth-of-type(2) > a')\n",
        "    \n",
        "    for item in range(len(items)):\n",
        "        name=items[item].contents[0]\n",
        "        if (stockList[stockList['Name']==name]['ListingDate']<'2018-1-1').tolist():\n",
        "            code=items[item].attrs['href'][-6:]\n",
        "            kospi100[code]=name\n",
        "            \n",
        "            if len(kospi100)==100:\n",
        "                break\n",
        "                \n",
        "    return kospi100\n",
        "\n",
        "def Kospi_100(): #kospi 상위 100개 출력 함수\n",
        "    \n",
        "    page = 1\n",
        "    kospi100=dict()\n",
        "    \n",
        "    while(len(kospi100)!=100):  \n",
        "        kospi100=crawling(page,kospi100)\n",
        "        page=page+1\n",
        "        \n",
        "    return kospi100\n"
      ],
      "metadata": {
        "id": "53cU4ZUv23lU"
      },
      "execution_count": null,
      "outputs": []
    },
    {
      "cell_type": "code",
      "source": [
        "kospi100 = Kospi_100()\n",
        "\n",
        "kospi100"
      ],
      "metadata": {
        "id": "BBXH0gpF24NC"
      },
      "execution_count": null,
      "outputs": []
    },
    {
      "cell_type": "code",
      "source": [
        "kospi_df = pd.DataFrame()\n",
        "\n",
        "kospi_df['Code'] = kospi100.keys()\n",
        "kospi_df['Name'] =kospi100.values()\n",
        "\n",
        "kospi_df"
      ],
      "metadata": {
        "id": "kU5zDL0A26by"
      },
      "execution_count": null,
      "outputs": []
    },
    {
      "cell_type": "code",
      "source": [
        ""
      ],
      "metadata": {
        "id": "gNZ0jUcU3CzH"
      },
      "execution_count": null,
      "outputs": []
    },
    {
      "cell_type": "code",
      "source": [
        ""
      ],
      "metadata": {
        "id": "EJB_c5hc3bER"
      },
      "execution_count": null,
      "outputs": []
    },
    {
      "cell_type": "markdown",
      "source": [
        "### 3) Trading "
      ],
      "metadata": {
        "id": "7O9l0yR17wPl"
      }
    },
    {
      "cell_type": "markdown",
      "source": [
        "- 특정 종목의 정보를 가져오는 함수 trading() 생성"
      ],
      "metadata": {
        "id": "yCHYNIkV7xrx"
      }
    },
    {
      "cell_type": "code",
      "source": [
        "\n",
        "def trading(code,start_date,end_date):\n",
        "    df = fdr.DataReader(code,start_date, end_date)\n",
        "\n",
        "    return df"
      ],
      "metadata": {
        "id": "u-Z4B-yh73lO"
      },
      "execution_count": null,
      "outputs": []
    },
    {
      "cell_type": "code",
      "source": [
        "\n",
        "#1) before corona\n",
        "\n",
        "for i in range(len(kospi_df)):\n",
        "    code = kospi_df['Code'][i]\n",
        "    df_kospi = trading(code,'20180101','20191231')\n",
        "    \n",
        "df_kospi"
      ],
      "metadata": {
        "id": "EB2VpWUe76XH"
      },
      "execution_count": null,
      "outputs": []
    },
    {
      "cell_type": "markdown",
      "source": [
        "###   * Strategy \n",
        "-  주가가 20일 이평선을 넘어가면 매수\n",
        "- 주가 하락하는 시점에 바로 매도 (100주) \n",
        "\n",
        "- initial = 1억"
      ],
      "metadata": {
        "id": "ORIr_XkC769C"
      }
    },
    {
      "cell_type": "code",
      "source": [
        "#삼성\n",
        "\n",
        "se_df = trading('005930','20180101','20191231')"
      ],
      "metadata": {
        "id": "JbhIY8u-7_0r"
      },
      "execution_count": null,
      "outputs": []
    },
    {
      "cell_type": "markdown",
      "source": [
        "#### 데이터 전처리\n",
        "\n",
        "- 1. 결측치 제거\n",
        "- 2. 회귀분석\n",
        "- 3. 상관분석..?"
      ],
      "metadata": {
        "id": "y4Youywj8Em-"
      }
    },
    {
      "cell_type": "code",
      "source": [
        "\n",
        "se_df = se_df.dropna()"
      ],
      "metadata": {
        "id": "iOpFaIt58IdW"
      },
      "execution_count": null,
      "outputs": []
    },
    {
      "cell_type": "markdown",
      "source": [
        "###  전략: 주가가 20일 이평선을 넘어가면 매수 & 주가 하락하는 시점에 바로 매도 (100주) & initial = 1억\n"
      ],
      "metadata": {
        "id": "kM0Qqmzs3nhu"
      }
    },
    {
      "cell_type": "code",
      "source": [
        "se_df.head()"
      ],
      "metadata": {
        "id": "NK3DqsAq8KX9"
      },
      "execution_count": null,
      "outputs": []
    },
    {
      "cell_type": "code",
      "source": [
        "# plot 하기 위해\n",
        "\n",
        "# 데이터의 type을 int로 바꿔줌\n",
        "se_df[['Open','High','Low','Volume']] = se_df[['Open','High','Low','Volume']].astype(int) \n"
      ],
      "metadata": {
        "id": "I_kC7Uq38L8q"
      },
      "execution_count": null,
      "outputs": []
    },
    {
      "cell_type": "markdown",
      "source": [
        "- 이상치 확인"
      ],
      "metadata": {
        "id": "2pNCKQjM8Vjv"
      }
    },
    {
      "cell_type": "code",
      "source": [
        "se_df['Close'].plot()"
      ],
      "metadata": {
        "id": "Jiw7QiB58YYe"
      },
      "execution_count": null,
      "outputs": []
    },
    {
      "cell_type": "code",
      "source": [
        "plt.figure(figsize=(12, 3))\n",
        "plt.scatter(se_df.index, se_df['Open'],color='green',alpha=0.8,linewidth=1,label='Open')\n",
        "plt.legend()\n",
        "plt.show()"
      ],
      "metadata": {
        "id": "beuEsaSx8Y_q"
      },
      "execution_count": null,
      "outputs": []
    },
    {
      "cell_type": "code",
      "source": [
        "se_2018 = trading('005930','20180401','20180531')\n",
        "se_2018 = se_2018.dropna()\n",
        "se_2018['MA_20'] = se_2018['Close'].rolling(20).mean()\n",
        "se_2018"
      ],
      "metadata": {
        "id": "n3esfqjt8bo5"
      },
      "execution_count": null,
      "outputs": []
    },
    {
      "cell_type": "code",
      "source": [
        "outlier = se_df[se_df.index == '2018-04-30'].index\n",
        "se_df = se_df.drop(outlier,axis=0)"
      ],
      "metadata": {
        "id": "J6Pjn1_V8cMG"
      },
      "execution_count": null,
      "outputs": []
    },
    {
      "cell_type": "code",
      "source": [
        "outlier = se_df[se_df.index == '2018-05-02'].index\n",
        "se_df = se_df.drop(outlier,axis=0)"
      ],
      "metadata": {
        "id": "yoiI_-WE8dj2"
      },
      "execution_count": null,
      "outputs": []
    },
    {
      "cell_type": "code",
      "source": [
        "outlier = se_df[se_df.index == '2018-05-03'].index\n",
        "se_df = se_df.drop(outlier,axis=0)"
      ],
      "metadata": {
        "id": "jVm7-rkZ8e9-"
      },
      "execution_count": null,
      "outputs": []
    },
    {
      "cell_type": "code",
      "source": [
        "plt.figure(figsize=(12, 3))\n",
        "plt.scatter(se_df.index, se_df['Open'],color='green',alpha=0.8,linewidth=1,label='Open')\n",
        "plt.legend()\n",
        "plt.show()"
      ],
      "metadata": {
        "id": "rFtu80378gSe"
      },
      "execution_count": null,
      "outputs": []
    },
    {
      "cell_type": "markdown",
      "source": [
        "### => '2018-04-31' ~ '2018-05-03'  데이터에 문제가 있으므로 제거"
      ],
      "metadata": {
        "id": "wf9Al6LG8jaI"
      }
    },
    {
      "cell_type": "code",
      "source": [
        "type(se_df.index)"
      ],
      "metadata": {
        "id": "cafnSmFF8kgP"
      },
      "execution_count": null,
      "outputs": []
    },
    {
      "cell_type": "markdown",
      "source": [
        "\n",
        "- **buy_signal이 0에서 1로 넘어가는 지점에서 매수**\n",
        "- **sell_signal이 -1.0 이면 매도**"
      ],
      "metadata": {
        "id": "Zd_jSrzb8sgB"
      }
    },
    {
      "cell_type": "code",
      "source": [
        "#se.resample('M').sum()\n",
        "\n",
        "se_df['MA_20'] = se_df['Close'].rolling(20).mean()"
      ],
      "metadata": {
        "id": "TUgWHPCz8teP"
      },
      "execution_count": null,
      "outputs": []
    },
    {
      "cell_type": "code",
      "source": [
        "#이동평균값 plot 그리기\n",
        "ma_plot = se_df[['MA_20','Close']].plot(figsize=(10,6))\n",
        "\n",
        "ma_plot.plot()\n",
        "\n",
        "ma_plot.legend(loc='best') #라벨 위치 설정\n",
        "\n",
        "ma_plot.grid() #격자"
      ],
      "metadata": {
        "id": "J8XK81Vq80ee"
      },
      "execution_count": null,
      "outputs": []
    },
    {
      "cell_type": "code",
      "source": [
        "se_df['buy_signal'] = np.where(se_df['MA_20'] > se_df['Close'], 1.0, 0.0)\n",
        "se_df['buy_signal'] = se_df['buy_signal'].diff()"
      ],
      "metadata": {
        "id": "lZa-JpoZ81so"
      },
      "execution_count": null,
      "outputs": []
    },
    {
      "cell_type": "code",
      "source": [
        "se_df['sell_signal'] = 0.0"
      ],
      "metadata": {
        "id": "xrz38vk-83HR"
      },
      "execution_count": null,
      "outputs": []
    },
    {
      "cell_type": "code",
      "source": [
        "for i in range(1,len(se_df)):\n",
        "    if se_df['Close'][i-1] > se_df['Close'][i]:\n",
        "        se_df['sell_signal'][i] = -1.0\n",
        "    else:\n",
        "        se_df['sell_signal'][i] = 0.0"
      ],
      "metadata": {
        "id": "5LHYyQ3G85ZO"
      },
      "execution_count": null,
      "outputs": []
    },
    {
      "cell_type": "code",
      "source": [
        "fig = plt.figure(figsize=(30,10))\n",
        "ax = fig.add_subplot(111)\n",
        "index = se_df.index.astype('str') # 캔들스틱 x축이 str로 들어감\n",
        "\n",
        "# 이동평균선 그리기\n",
        "ax.plot(index, se_df['MA_20'], label='MA_20', linewidth=0.7)\n",
        "\n",
        "# X축 티커 숫자 20개로 제한\n",
        "ax.xaxis.set_major_locator(ticker.MaxNLocator(20))\n",
        "\n",
        "# 그래프 title과 축 이름 지정\n",
        "ax.set_title('samsung', fontsize=22)\n",
        "ax.set_xlabel('Date')\n",
        "\n",
        "# 캔들차트 그리기\n",
        "candlestick2_ohlc(ax, se_df['Open'], se_df['High'], \n",
        "                  se_df['Low'], se_df['Close'],\n",
        "                  width=0.5, colorup='r', colordown='b')\n",
        "ax.legend()\n",
        "plt.grid()\n",
        "plt.show()"
      ],
      "metadata": {
        "id": "FoSVe4WD9FWX"
      },
      "execution_count": null,
      "outputs": []
    }
  ]
}