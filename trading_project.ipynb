{
  "nbformat": 4,
  "nbformat_minor": 0,
  "metadata": {
    "colab": {
      "name": "\btrading_project.ipynb",
      "private_outputs": true,
      "provenance": [],
      "authorship_tag": "ABX9TyPVYzCDTh3lZzpDETvq/Ts0",
      "include_colab_link": true
    },
    "kernelspec": {
      "name": "python3",
      "display_name": "Python 3"
    },
    "language_info": {
      "name": "python"
    }
  },
  "cells": [
    {
      "cell_type": "markdown",
      "metadata": {
        "id": "view-in-github",
        "colab_type": "text"
      },
      "source": [
        "<a href=\"https://colab.research.google.com/github/jny0812/trading_project/blob/main/%08trading_project.ipynb\" target=\"_parent\"><img src=\"https://colab.research.google.com/assets/colab-badge.svg\" alt=\"Open In Colab\"/></a>"
      ]
    },
    {
      "cell_type": "markdown",
      "source": [
        "### 1) 모듈 import"
      ],
      "metadata": {
        "id": "cIcrvOmvaa92"
      }
    },
    {
      "cell_type": "code",
      "source": [
        "!pip3 install -U finance-datareader\n",
        "!pip3 install pykrx"
      ],
      "metadata": {
        "id": "CoxguVu9az1H"
      },
      "execution_count": null,
      "outputs": []
    },
    {
      "cell_type": "code",
      "source": [
        "import pandas as pd\n",
        "import numpy as np\n",
        "import FinanceDataReader as fdr\n",
        "from pykrx import stock\n",
        "import matplotlib.pyplot as plt\n",
        "import requests\n",
        "from bs4 import BeautifulSoup"
      ],
      "metadata": {
        "id": "EVT2IQAdahYp"
      },
      "execution_count": null,
      "outputs": []
    },
    {
      "cell_type": "code",
      "source": [
        ""
      ],
      "metadata": {
        "id": "R5mAJw5cavi8"
      },
      "execution_count": null,
      "outputs": []
    }
  ]
}