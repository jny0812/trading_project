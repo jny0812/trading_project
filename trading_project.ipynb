{
  "nbformat": 4,
  "nbformat_minor": 0,
  "metadata": {
    "colab": {
      "name": "\btrading_project.ipynb",
      "private_outputs": true,
      "provenance": [],
      "collapsed_sections": [],
      "authorship_tag": "ABX9TyMYQeJCER0YYRt32wDUSWlK",
      "include_colab_link": true
    },
    "kernelspec": {
      "name": "python3",
      "display_name": "Python 3"
    },
    "language_info": {
      "name": "python"
    }
  },
  "cells": [
    {
      "cell_type": "markdown",
      "metadata": {
        "id": "view-in-github",
        "colab_type": "text"
      },
      "source": [
        "<a href=\"https://colab.research.google.com/github/jny0812/trading_project/blob/main/%08trading_project.ipynb\" target=\"_parent\"><img src=\"https://colab.research.google.com/assets/colab-badge.svg\" alt=\"Open In Colab\"/></a>"
      ]
    },
    {
      "cell_type": "markdown",
      "source": [
        "### 1) 모듈 import"
      ],
      "metadata": {
        "id": "cIcrvOmvaa92"
      }
    },
    {
      "cell_type": "code",
      "source": [
        "!pip3 install -U finance-datareader\n",
        "!pip3 install pykrx"
      ],
      "metadata": {
        "id": "CoxguVu9az1H"
      },
      "execution_count": null,
      "outputs": []
    },
    {
      "cell_type": "code",
      "source": [
        "import pandas as pd\n",
        "import numpy as np\n",
        "import FinanceDataReader as fdr\n",
        "from pykrx import stock\n",
        "import matplotlib.pyplot as plt\n",
        "import requests\n",
        "from bs4 import BeautifulSoup"
      ],
      "metadata": {
        "id": "EVT2IQAdahYp"
      },
      "execution_count": null,
      "outputs": []
    },
    {
      "cell_type": "markdown",
      "source": [
        "## 크롤링"
      ],
      "metadata": {
        "id": "R5mAJw5cavi8"
      }
    },
    {
      "cell_type": "code",
      "source": [
        "stockList = fdr.StockListing('KRX')\n",
        "\n",
        "def crawling(page, kospi100):\n",
        "    res = requests.get('https://finance.naver.com/sise/sise_market_sum.naver?&page='+str(page))\n",
        "    soup = BeautifulSoup(res.content,'html.parser')\n",
        "    \n",
        "    #section = soup.select('tbody')\n",
        "    #items= section.find_all('tr', onmouseover=\"mouseOver(this)\")\n",
        "    \n",
        "    items = soup.select('tbody > tr > td:nth-of-type(2) > a')\n",
        "    \n",
        "    for item in range(len(items)):\n",
        "        name=items[item].contents[0]\n",
        "        if (stockList[stockList['Name']==name]['ListingDate']<'2018-1-1').tolist():\n",
        "            code=items[item].attrs['href'][-6:]\n",
        "            kospi100[code]=name\n",
        "            \n",
        "            if len(kospi100)==100:\n",
        "                break\n",
        "                \n",
        "    return kospi100\n",
        "\n",
        "def Kospi_100(): #kospi 상위 100개 출력 함수\n",
        "    \n",
        "    page = 1\n",
        "    kospi100=dict()\n",
        "    \n",
        "    while(len(kospi100)!=100):  \n",
        "        kospi100=crawling(page,kospi100)\n",
        "        page=page+1\n",
        "        \n",
        "    return kospi100\n"
      ],
      "metadata": {
        "id": "53cU4ZUv23lU"
      },
      "execution_count": null,
      "outputs": []
    },
    {
      "cell_type": "code",
      "source": [
        "kospi100 = Kospi_100()\n",
        "\n",
        "kospi100"
      ],
      "metadata": {
        "id": "BBXH0gpF24NC"
      },
      "execution_count": null,
      "outputs": []
    },
    {
      "cell_type": "code",
      "source": [
        "kospi_df = pd.DataFrame()\n",
        "\n",
        "kospi_df['Code'] = kospi100.keys()\n",
        "kospi_df['Name'] =kospi100.values()\n",
        "\n",
        "kospi_df"
      ],
      "metadata": {
        "id": "kU5zDL0A26by"
      },
      "execution_count": null,
      "outputs": []
    },
    {
      "cell_type": "code",
      "source": [
        ""
      ],
      "metadata": {
        "id": "gNZ0jUcU3CzH"
      },
      "execution_count": null,
      "outputs": []
    },
    {
      "cell_type": "code",
      "source": [
        ""
      ],
      "metadata": {
        "id": "EJB_c5hc3bER"
      },
      "execution_count": null,
      "outputs": []
    },
    {
      "cell_type": "markdown",
      "source": [
        "### 3) Trading "
      ],
      "metadata": {
        "id": "7O9l0yR17wPl"
      }
    },
    {
      "cell_type": "markdown",
      "source": [
        "- 특정 종목의 정보를 가져오는 함수 trading() 생성"
      ],
      "metadata": {
        "id": "yCHYNIkV7xrx"
      }
    },
    {
      "cell_type": "code",
      "source": [
        "\n",
        "def trading(code,start_date,end_date):\n",
        "    df = fdr.DataReader(code,start_date, end_date)\n",
        "\n",
        "    return df"
      ],
      "metadata": {
        "id": "u-Z4B-yh73lO"
      },
      "execution_count": null,
      "outputs": []
    },
    {
      "cell_type": "code",
      "source": [
        "\n",
        "#1) before corona\n",
        "\n",
        "for i in range(len(kospi_df)):\n",
        "    code = kospi_df['Code'][i]\n",
        "    df_kospi = trading(code,'20180101','20191231')\n",
        "    \n",
        "df_kospi"
      ],
      "metadata": {
        "id": "EB2VpWUe76XH"
      },
      "execution_count": null,
      "outputs": []
    },
    {
      "cell_type": "markdown",
      "source": [
        "###   * Strategy \n",
        "-  주가가 20일 이평선을 넘어가면 매수\n",
        "- 주가 하락하는 시점에 바로 매도 (100주) \n",
        "\n",
        "- initial = 1억"
      ],
      "metadata": {
        "id": "ORIr_XkC769C"
      }
    },
    {
      "cell_type": "code",
      "source": [
        "#삼성\n",
        "\n",
        "se_df = trading('005930','20180101','20191231')"
      ],
      "metadata": {
        "id": "JbhIY8u-7_0r"
      },
      "execution_count": null,
      "outputs": []
    },
    {
      "cell_type": "markdown",
      "source": [
        "#### 데이터 전처리\n",
        "\n",
        "- 1. 결측치 제거\n",
        "- 2. 회귀분석\n",
        "- 3. 상관분석..?"
      ],
      "metadata": {
        "id": "y4Youywj8Em-"
      }
    },
    {
      "cell_type": "code",
      "source": [
        "\n",
        "se_df = se_df.dropna()"
      ],
      "metadata": {
        "id": "iOpFaIt58IdW"
      },
      "execution_count": null,
      "outputs": []
    },
    {
      "cell_type": "markdown",
      "source": [
        "###  전략: 주가가 20일 이평선을 넘어가면 매수 & 주가 하락하는 시점에 바로 매도 (100주) & initial = 1억\n"
      ],
      "metadata": {
        "id": "kM0Qqmzs3nhu"
      }
    },
    {
      "cell_type": "code",
      "source": [
        "se_df.head()"
      ],
      "metadata": {
        "id": "NK3DqsAq8KX9"
      },
      "execution_count": null,
      "outputs": []
    },
    {
      "cell_type": "code",
      "source": [
        ""
      ],
      "metadata": {
        "id": "I_kC7Uq38L8q"
      },
      "execution_count": null,
      "outputs": []
    }
  ]
}